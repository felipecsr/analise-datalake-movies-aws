{
 "cells": [
  {
   "cell_type": "markdown",
   "metadata": {},
   "source": [
    "# 4. Desafio da sprint 02\n",
    "Este notebook realiza a leitura de um arquivo CSV que contém dados de aplicativos da Google Play Store.   \n",
    "O objetivo é processar os dados atendendo cada etapa do desafio, onde teremos processamento de dados com funções e respostas, e também gráficos analíticos plotados diretamente no notebook. \n"
   ]
  },
  {
   "cell_type": "markdown",
   "metadata": {},
   "source": [
    "## 4.1 - Ambiente: Importação de bibliotecas - Panda e Matplotlib\n",
    "Para iniciar faremos a importação das bibliotecas abaixo, com as respectivas funcionalidades:  \n",
    "**Pandas**: facilita o trabalho com tabelas, otimizando linhas de código. Como exemplo, praticamente não se verá funções lambda com a utilização dos recursos de Pandas.  \n",
    "**Matplotlib**: biblioteca que nos permitirá gerar/ plotar gráficos (de barras verticais ou horizontais, dispersões, pizza, etc).  \n",
    "**Numpy**: biblioteca que otimizará o tratamento de formatos numéricos aqui no nosso caso."
   ]
  },
  {
   "cell_type": "code",
   "execution_count": null,
   "metadata": {},
   "outputs": [],
   "source": [
    "# Importar bibliotecas\n",
    "import pandas as pd\n",
    "import matplotlib.pyplot as plt\n",
    "import numpy as np"
   ]
  },
  {
   "cell_type": "markdown",
   "metadata": {},
   "source": [
    "## 4.2 - Desenvolvimento: as atividades propostas pelo desafio"
   ]
  },
  {
   "cell_type": "markdown",
   "metadata": {},
   "source": [
    "### 1. Criando o dataframe com Pandas\n",
    "Nessa etapa, através dos recursos da biblioteca Pandas, realizaremos a extração do conteúdo do csv e realizaremos a remoção de duplicatas"
   ]
  },
  {
   "cell_type": "markdown",
   "metadata": {},
   "source": [
    "#### Detector de linhas inconsistentes no dataset (parte de antecipação ao ETL)  \n",
    "*Obs: as linhas 4453 e 4490 apareceriam ao rodar o script, mas listei como exceção após análise visual da linha*"
   ]
  },
  {
   "cell_type": "code",
   "execution_count": null,
   "metadata": {},
   "outputs": [],
   "source": [
    "# Função para verificar inconsistências na última coluna e imprimir possíveis linhas problemáticas\n",
    "def verificar_ultima_coluna_vazia(df):\n",
    "    num_colunas = df.shape[1]  # Número total de colunas\n",
    "    inconsistencias = []\n",
    "\n",
    "    # Verificar a última coluna para identificar linhas vazias\n",
    "    for idx in df.index:\n",
    "        if pd.isna(df.iloc[idx, num_colunas - 1]):  # Verifica se o último elemento da linha é NaN\n",
    "            if idx not in [4453, 4490]:  # Ignorar as linhas 4453 e 4490 que observei a olho nu que estão ok, apesar de NaN\n",
    "                inconsistencias.append(idx)\n",
    "                print(f\"Possível inconsistência encontrada na linha {idx} (coluna 13 está vazia).\")\n",
    "\n",
    "    if inconsistencias:\n",
    "        print(f\"{len(inconsistencias)} possível(eis) inconsistência(s) encontrada(s). Verifique as linhas listadas.\")\n",
    "    else:\n",
    "        print(\"Nenhuma inconsistência encontrada na última coluna.\")\n",
    "\n",
    "    return inconsistencias\n",
    "\n",
    "# Ler o arquivo CSV\n",
    "data = pd.read_csv('googleplaystore.csv')\n",
    "\n",
    "# Executar a verificação da última coluna\n",
    "verificar_ultima_coluna_vazia(data)\n"
   ]
  },
  {
   "cell_type": "markdown",
   "metadata": {},
   "source": [
    "#### Tratamento da linha 10472"
   ]
  },
  {
   "cell_type": "code",
   "execution_count": null,
   "metadata": {},
   "outputs": [],
   "source": [
    "# Tratamento da linha 10472 para corrigir a inconsistência\n",
    "import pandas as pd\n",
    "\n",
    "# Ler o arquivo CSV\n",
    "data = pd.read_csv('googleplaystore.csv')\n",
    "\n",
    "# Função para corrigir a linha 10472\n",
    "def corrigir_linha_10472(df):\n",
    "    idx = 10472  # Índice da linha a ser corrigida\n",
    "    if idx in df.index:\n",
    "        print(f\"Linha antes da correção:\\n{df.loc[idx]}\\n\")\n",
    "        \n",
    "        # Manter o conteúdo da primeira coluna e preencher a segunda com 'NaN'\n",
    "        df.loc[idx, df.columns[1:]] = df.loc[idx, df.columns[:-1]].astype(str).shift(1)\n",
    "        df.loc[idx, 'Category'] = 'NaN'\n",
    "        \n",
    "        print(f\"Linha após a correção:\\n{df.loc[idx]}\\n\")\n",
    "    else:\n",
    "        print(\"Linha 10472 não encontrada no DataFrame.\")\n",
    "    \n",
    "    return df\n",
    "\n",
    "# Aplicar a correção na linha 10472\n",
    "data = corrigir_linha_10472(data)\n",
    "\n",
    "# Bloco de código para testar o DataFrame e confirmar que a linha 10472 foi tratada\n",
    "def testar_dataframe_corrigido(df):\n",
    "    # Verifica se a linha 10472 tem 13 elementos, incluindo NaNs, e imprime um resumo\n",
    "    linha_10472 = df.loc[10472]\n",
    "    num_elementos = len(linha_10472)  # Conta todos os elementos, incluindo NaNs\n",
    "    print(f\"Contagem de elementos na linha 10472 após correção: {num_elementos}\")\n",
    "    if num_elementos == df.shape[1]:\n",
    "        print(\"Linha 10472 foi tratada corretamente e não é mais inconsistente.\")\n",
    "    else:\n",
    "        print(\"Linha 10472 ainda apresenta inconsistências.\")\n",
    "\n",
    "# Testar o DataFrame\n",
    "testar_dataframe_corrigido(data)\n"
   ]
  },
  {
   "cell_type": "markdown",
   "metadata": {},
   "source": [
    "#### Tratamento 'padrão' ETL"
   ]
  },
  {
   "cell_type": "code",
   "execution_count": null,
   "metadata": {},
   "outputs": [],
   "source": [
    "# Bloco de código para tratamentos adicionais no DataFrame\n",
    "\n",
    "# Remover duplicidades\n",
    "data = data.drop_duplicates()\n",
    "\n",
    "# Tratar a coluna 'Price': converter para string, remover o símbolo '$' e converter para float\n",
    "data['Price'] = data['Price'].astype(str).str.replace('$', '', regex=False).astype(float)\n",
    "\n",
    "# Converter a coluna 'Reviews' para float e depois para int, tratando erros\n",
    "data['Reviews'] = pd.to_numeric(data['Reviews'], errors='coerce').fillna(0).astype(int)\n",
    "\n",
    "# Exibir mensagem de sucesso\n",
    "def verificar_tratamentos(df):\n",
    "    print(\"Tratamentos realizados com sucesso:\")\n",
    "    print(f\"Total de linhas após remoção de duplicidades: {df.shape[0]}\")\n",
    "    print(f\"Tipo de dados da coluna 'Price': {df['Price'].dtype}\")\n",
    "    print(f\"Tipo de dados da coluna 'Reviews': {df['Reviews'].dtype}\")\n",
    "\n",
    "# Verificar o DataFrame após os tratamentos\n",
    "verificar_tratamentos(data)\n",
    "\n"
   ]
  },
  {
   "cell_type": "markdown",
   "metadata": {},
   "source": [
    "### 2. Faça um gráfico de barras contendo os top 5 apps por número de instalação  \n",
    "Um comentário que é válido para este desafio é que, ao final do filtro que seleciona os apps na 'categoria' `1,000,000,000+ instalações` temos 20 apps, e o top 5 plotado no gráfico obedece a ordem de aparição/ ordenação das linhas do dataset, como uma \"funcionalidade\" nativa da biblioteca."
   ]
  },
  {
   "cell_type": "code",
   "execution_count": null,
   "metadata": {},
   "outputs": [],
   "source": [
    "import matplotlib.pyplot as plt\n",
    "\n",
    "# Converter a coluna 'Installs' para string e remover caracteres indesejados apenas se necessário\n",
    "data['Installs'] = data['Installs'].astype(str).str.replace(',', '').str.replace('+', '').astype(int)\n",
    "\n",
    "# Selecionar os top 5 apps por número de instalações\n",
    "top_5_apps = data.sort_values(by='Installs', ascending=False).head(5)\n",
    "\n",
    "# Criar o gráfico de barras\n",
    "plt.figure(figsize=(10, 6))\n",
    "bars = plt.bar(top_5_apps['App'], top_5_apps['Installs'], color='skyblue')\n",
    "plt.title('Top 5 Apps por Número de Instalações')\n",
    "plt.xlabel('Apps')\n",
    "plt.ylabel('Número de Instalações')\n",
    "plt.xticks(rotation=45)\n",
    "\n",
    "# Adicionar os números de instalações em cada barra\n",
    "for bar in bars:\n",
    "    yval = bar.get_height()\n",
    "    plt.text(bar.get_x() + bar.get_width()/2, yval, f'{yval:,}', va='bottom', ha='center')\n",
    "\n",
    "plt.tight_layout()\n",
    "plt.show()\n"
   ]
  },
  {
   "cell_type": "markdown",
   "metadata": {},
   "source": [
    "### 3. Faça um gráfico de pizza (pie chart) mostrando as categorias de apps existentes no dataset de acordo com a frequência em que elas aparecem."
   ]
  },
  {
   "cell_type": "code",
   "execution_count": null,
   "metadata": {},
   "outputs": [],
   "source": [
    "import matplotlib.pyplot as plt\n",
    "\n",
    "# Contar a frequência das categorias no dataset\n",
    "categoria_frequencia = data['Category'].value_counts()\n",
    "\n",
    "# Criar um gráfico de pizza\n",
    "plt.figure(figsize=(12, 8))\n",
    "plt.pie(categoria_frequencia, labels=categoria_frequencia.index, autopct='%1.1f%%', startangle=140)\n",
    "plt.title('Distribuição de Categorias de Apps no Dataset')\n",
    "plt.axis('equal')  # Para garantir que o gráfico seja um círculo perfeito\n",
    "plt.show()\n"
   ]
  },
  {
   "cell_type": "markdown",
   "metadata": {},
   "source": [
    "### 4. Mostre qual o app mais caro existente no dataset.  \n"
   ]
  },
  {
   "cell_type": "code",
   "execution_count": null,
   "metadata": {},
   "outputs": [],
   "source": [
    "# Encontrar o app mais caro no dataset\n",
    "app_mais_caro = data.loc[data['Price'].idxmax()]\n",
    "\n",
    "# Exibir o resultado\n",
    "print(f\"App mais caro do dataset: {app_mais_caro['App']} - ${app_mais_caro['Price']}\")\n",
    "\n"
   ]
  },
  {
   "cell_type": "markdown",
   "metadata": {},
   "source": [
    "### 5. Mostre quantos apps são classificados como 'Mature 17+'.  \n",
    "*Obs: importante destacar que sem o tratamento adequado, o primeiro resultado obtido tinha sido 447, mas havia uma contagem com duplicidades. Por isso foi aplicado um `drop_duplicates` com o subset na coluna \"App\" para uma contagem única de itens.*\n"
   ]
  },
  {
   "cell_type": "code",
   "execution_count": null,
   "metadata": {},
   "outputs": [],
   "source": [
    "# Contar quantos apps são classificados como 'Mature 17+'\n",
    "data_unique = data.drop_duplicates(subset=['App'])\n",
    "num_mature_apps = data_unique[data_unique['Content Rating'] == 'Mature 17+'].shape[0]\n",
    "\n",
    "# Exibir o resultado\n",
    "print(f\"Número de apps classificados como 'Mature 17+': {num_mature_apps}\")"
   ]
  },
  {
   "cell_type": "markdown",
   "metadata": {},
   "source": [
    "### 6. Mostre o top 10 apps por número de reviews bem como o respectivo número de reviews. Ordene a lista de forma decrescente por número de reviews.  \n"
   ]
  },
  {
   "cell_type": "code",
   "execution_count": null,
   "metadata": {},
   "outputs": [],
   "source": [
    "# Mostrar o top 10 apps por número de reviews\n",
    "# Remover duplicatas com base na coluna 'App'\n",
    "data_unique = data.drop_duplicates(subset=['App'])\n",
    "\n",
    "# Ordenar o dataset por número de reviews de forma decrescente\n",
    "top_10_reviews = data_unique.sort_values(by='Reviews', ascending=False).head(10)\n",
    "\n",
    "# Exibir o resultado\n",
    "print(\"Top 10 apps por número de reviews:\")\n",
    "for index, row in top_10_reviews.iterrows():\n",
    "    print(f\"{row['App']} - {row['Reviews']} reviews\")"
   ]
  },
  {
   "cell_type": "markdown",
   "metadata": {},
   "source": [
    "### 7. Crie pelo menos mais 2 cálculos sobre o dataset e apresente um em formato de lista e outro em formato de valor. Por exemplo: \"top 10 apps por número de reviews\" e \"o app mais caro existente no dataset.\"  "
   ]
  },
  {
   "cell_type": "code",
   "execution_count": null,
   "metadata": {},
   "outputs": [],
   "source": [
    "# Mostrar o top 10 apps por número de versões lançadas\n",
    "# Contar o número de versões por app\n",
    "# Utilizar o dataset original 'data' para essa análise\n",
    "top_10_versions = data['App'].value_counts().head(10)\n",
    "\n",
    "# Exibir o resultado\n",
    "print(\"Top 10 apps por número de versões lançadas:\")\n",
    "for app, count in top_10_versions.items():\n",
    "    print(f\"{app} - {count} versões\")\n",
    "\n",
    "# Cálculo adicional 1: Top 10 categorias por número de apps (após remover duplicatas na coluna 'App')\n",
    "data_unique = data.drop_duplicates(subset=['App'])\n",
    "print(\"\\nTop 10 categorias por número de apps:\")\n",
    "top_10_categorias = data_unique['Category'].value_counts().head(10)\n",
    "for categoria, count in top_10_categorias.items():\n",
    "    print(f\"{categoria} - {count} apps\")\n"
   ]
  },
  {
   "cell_type": "markdown",
   "metadata": {},
   "source": [
    "### 8. Crie pelo menos outras 2 formas gráficas de exibição dos indicadores acima utilizando a biblioteca matplotlib. Escolha tipos de gráficos diferentes dos explorados acima. Por exemplo: linhas e dispersão.  "
   ]
  },
  {
   "cell_type": "code",
   "execution_count": null,
   "metadata": {},
   "outputs": [],
   "source": [
    "import matplotlib.pyplot as plt\n",
    "\n",
    "# Contagem de versões de todos os apps\n",
    "versoes_por_app = data['App'].value_counts()\n",
    "\n",
    "# Gráfico de barras horizontais para o top 10 apps por número de versões\n",
    "plt.figure(figsize=(12, 6))\n",
    "versoes_top_10 = versoes_por_app.head(10)\n",
    "plt.barh(versoes_top_10.index, versoes_top_10.values, color='skyblue')\n",
    "plt.title('Top 10 Apps por Número de Versões Lançadas')\n",
    "plt.xlabel('Número de Versões')\n",
    "plt.ylabel('Apps')\n",
    "plt.gca().invert_yaxis()  # Inverter a ordem para mostrar o maior no topo\n",
    "plt.tight_layout()\n",
    "plt.show()\n",
    "\n",
    "# Gráfico de linhas para as 10 principais categorias por número de apps\n",
    "data_unique = data.drop_duplicates(subset=['App'])\n",
    "top_10_categorias = data_unique['Category'].value_counts().head(10)\n",
    "\n",
    "plt.figure(figsize=(12, 6))\n",
    "plt.plot(top_10_categorias.index, top_10_categorias.values, marker='o', linestyle='-', color='green')\n",
    "plt.title('Top 10 Categorias por Número de Apps')\n",
    "plt.xlabel('Categorias')\n",
    "plt.ylabel('Número de Apps')\n",
    "plt.xticks(rotation=45)\n",
    "plt.grid(True)\n",
    "plt.tight_layout()\n",
    "plt.show()\n"
   ]
  }
 ],
 "metadata": {
  "kernelspec": {
   "display_name": "Python 3 (ipykernel)",
   "language": "python",
   "name": "python3"
  },
  "language_info": {
   "codemirror_mode": {
    "name": "ipython",
    "version": 3
   },
   "file_extension": ".py",
   "mimetype": "text/x-python",
   "name": "python",
   "nbconvert_exporter": "python",
   "pygments_lexer": "ipython3",
   "version": "3.12.4"
  }
 },
 "nbformat": 4,
 "nbformat_minor": 4
}
